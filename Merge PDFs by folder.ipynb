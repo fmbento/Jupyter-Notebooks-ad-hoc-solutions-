{
 "cells": [
  {
   "cell_type": "markdown",
   "id": "d73fb2fe",
   "metadata": {},
   "source": [
    "### Merge PDF files found in subfolders into one per subfolder, inside that subfolder, named the same as the subfolder.\n",
    "\n",
    "how the code works:\n",
    "\n",
    "* The os.listdir() function is used to loop through each subfolder in the specified root directory (\"files\" folder, inside the current directory).\n",
    "* For each subfolder, a PdfFileMerger object is created.\n",
    "* The os.listdir() function is used again to loop through each PDF file in the subfolder. If the file ends with '.pdf', it is added to the PdfFileMerger object using the append() method.\n",
    "* The output filename is created by concatenating the subfolder name with '.pdf'.\n",
    "* The merged PDF is written to the output file using the write() method of the PdfFileMerger object."
   ]
  },
  {
   "cell_type": "code",
   "execution_count": 6,
   "id": "65f68a29",
   "metadata": {},
   "outputs": [],
   "source": [
    "import os\n",
    "from PyPDF2 import PdfMerger\n",
    "\n",
    "# specify the root directory where the subfolders are located\n",
    "root_directory = './files/'\n",
    "\n",
    "# loop through each subfolder\n",
    "for foldername in os.listdir(root_directory):\n",
    "    # create a PdfMerger object\n",
    "    pdf_merger = PdfMerger()\n",
    "    \n",
    "    # loop through each PDF file in the subfolder\n",
    "    for filename in os.listdir(os.path.join(root_directory, foldername)):\n",
    "        if filename.endswith('.pdf'):\n",
    "            # add the PDF file to the merger\n",
    "            pdf_merger.append(open(os.path.join(root_directory, foldername, filename), 'rb'))\n",
    "    \n",
    "    # create the output filename (same as subfolder name)\n",
    "    output_filename = os.path.join(root_directory, foldername, foldername + '.pdf')\n",
    "    \n",
    "    # write the merged PDF to the output file\n",
    "    with open(output_filename, 'wb') as output:\n",
    "        pdf_merger.write(output)"
   ]
  }
 ],
 "metadata": {
  "kernelspec": {
   "display_name": "Python 3 (ipykernel)",
   "language": "python",
   "name": "python3"
  },
  "language_info": {
   "codemirror_mode": {
    "name": "ipython",
    "version": 3
   },
   "file_extension": ".py",
   "mimetype": "text/x-python",
   "name": "python",
   "nbconvert_exporter": "python",
   "pygments_lexer": "ipython3",
   "version": "3.10.6"
  }
 },
 "nbformat": 4,
 "nbformat_minor": 5
}
