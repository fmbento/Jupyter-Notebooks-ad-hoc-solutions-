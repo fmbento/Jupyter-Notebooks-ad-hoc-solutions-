{
 "cells": [
  {
   "cell_type": "markdown",
   "id": "bfc74adf",
   "metadata": {},
   "source": [
    "### Merge PDF files found in subfolders into one \n",
    "#### per subfolder, inside that subfolder, named the same as the subfolder.\n",
    "\n",
    "\n",
    "What each part of the code will do, in seven easy steps:\n",
    "\n",
    "1.  The `os.listdir()` function is used to loop through each subfolder in the specified root directory.\n",
    "2.  For each subfolder, if it has two PDF files inside, a `PdfFileMerger` object is created.\n",
    "3.  The `os.listdir()` function is used again to loop through each PDF file in the subfolder. \n",
    "4.  We then use the `sort()` method to sort the list by filename.\n",
    "5.  The sorted list of PDF files is then looped through and added to the `PdfFileMerger` object.\n",
    "6.  The output filename is created by concatenating the subfolder name with '.pdf'.\n",
    "7.  The merged PDF is written to the output file using the `write()` method of the `PdfFileMerger` object.\n",
    "\n",
    "Note that this code requires the `PyPDF2` library, which can be installed via pip (`!pip install PyPDF2`)."
   ]
  },
  {
   "cell_type": "code",
   "execution_count": 12,
   "id": "8fcfde44",
   "metadata": {},
   "outputs": [
    {
     "name": "stdout",
     "output_type": "stream",
     "text": [
      "New complete PDF created: ./files/livro xpto/livro xpto.pdf\n",
      "New complete PDF created: ./files/livro 1/livro 1.pdf\n"
     ]
    }
   ],
   "source": [
    "import os\n",
    "from PyPDF2 import PdfMerger\n",
    "\n",
    "# specify the root directory where the subfolders are located\n",
    "root_directory = './files/'\n",
    "\n",
    "# loop through each subfolder\n",
    "for foldername in os.listdir(root_directory):\n",
    "    \n",
    "    ## get a list of PDF files in the subfolder and sort them by filename\n",
    "    pdf_files = [f for f in os.listdir(os.path.join(root_directory, foldername)) if f.endswith('.pdf')]\n",
    "    \n",
    "    # check if the subfolder contains at least two PDF files\n",
    "    if len(pdf_files) > 1:\n",
    "        \n",
    "        # create a PdfMerger object\n",
    "        pdf_merger = PdfMerger()\n",
    "        \n",
    "        # sort the PDF files by filename\n",
    "        pdf_files.sort()\n",
    "\n",
    "        # loop through each PDF file in the subfolder and add it to the merger\n",
    "        for filename in pdf_files:\n",
    "            pdf_merger.append(open(os.path.join(root_directory, foldername, filename), 'rb'))\n",
    "\n",
    "        # create the output filename (same as subfolder name)\n",
    "        output_filename = os.path.join(root_directory, foldername, foldername + '.pdf')\n",
    "\n",
    "        # write the merged PDF to the output file\n",
    "        with open(output_filename, 'wb') as output:\n",
    "            pdf_merger.write(output)\n",
    "            print('New complete PDF created: ' + output_filename)"
   ]
  }
 ],
 "metadata": {
  "kernelspec": {
   "display_name": "Python 3 (ipykernel)",
   "language": "python",
   "name": "python3"
  },
  "language_info": {
   "codemirror_mode": {
    "name": "ipython",
    "version": 3
   },
   "file_extension": ".py",
   "mimetype": "text/x-python",
   "name": "python",
   "nbconvert_exporter": "python",
   "pygments_lexer": "ipython3",
   "version": "3.10.6"
  }
 },
 "nbformat": 4,
 "nbformat_minor": 5
}
