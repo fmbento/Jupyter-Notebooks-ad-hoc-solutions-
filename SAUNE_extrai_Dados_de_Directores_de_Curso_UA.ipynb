{
  "nbformat": 4,
  "nbformat_minor": 0,
  "metadata": {
    "colab": {
      "provenance": [],
      "authorship_tag": "ABX9TyOM4KcFeLb+q9rjJ3W7GtXJ",
      "include_colab_link": true
    },
    "kernelspec": {
      "name": "python3",
      "display_name": "Python 3"
    },
    "language_info": {
      "name": "python"
    }
  },
  "cells": [
    {
      "cell_type": "markdown",
      "metadata": {
        "id": "view-in-github",
        "colab_type": "text"
      },
      "source": [
        "<a href=\"https://colab.research.google.com/github/fmbento/Jupyter-Notebooks_ad-hoc-solutions/blob/main/SAUNE_extrai_Dados_de_Directores_de_Curso_UA.ipynb\" target=\"_parent\"><img src=\"https://colab.research.google.com/assets/colab-badge.svg\" alt=\"Open In Colab\"/></a>"
      ]
    },
    {
      "cell_type": "code",
      "source": [
        "!touch cursos_url.txt"
      ],
      "metadata": {
        "id": "V5O0sqi34MjX"
      },
      "execution_count": 1,
      "outputs": []
    },
    {
      "cell_type": "code",
      "execution_count": 2,
      "metadata": {
        "id": "eYFSkp2CuwLl"
      },
      "outputs": [],
      "source": [
        "%%capture\n",
        "!pip install selenium\n",
        "!apt-get update # to update ubuntu to correctly run apt install\n",
        "!apt install -y chromium-chromedriver\n",
        "!cp /usr/lib/chromium-browser/chromedriver /usr/bin\n",
        "\n",
        "import sys\n",
        "sys.path.insert(0,'/usr/lib/chromium-browser/chromedriver')\n"
      ]
    },
    {
      "cell_type": "code",
      "source": [
        "from selenium import webdriver\n",
        "from selenium.webdriver.chrome.options import Options\n",
        "from selenium.webdriver.common.by import By\n",
        "# from selenium.webdriver.support.ui import WebDriverWait\n",
        "# from selenium.webdriver.support import expected_conditions as EC\n",
        "import csv\n",
        "import time\n",
        "\n",
        "# Setup chrome options\n",
        "chrome_options = Options()\n",
        "chrome_options.add_argument('--headless')\n",
        "chrome_options.add_argument('--no-sandbox')\n",
        "chrome_options.add_argument('--disable-dev-shm-usage')\n",
        "\n",
        "# Function to extract information from a single page\n",
        "def extract_info(url):\n",
        "    driver = webdriver.Chrome(options=chrome_options)\n",
        "    driver.get(url)\n",
        "\n",
        "    # wait = WebDriverWait(driver, 10)  # wait for up to 10 seconds\n",
        "    time.sleep(3)  # wait for 10 seconds\n",
        "\n",
        "    curso = driver.find_element(By.XPATH, \"/html/body/div[1]/div/div/section[1]/div/div[1]/div/div/h1\").text\n",
        "    diretor = driver.find_element(By.XPATH, \"/html/body/div[1]/div/div/section[1]/div/div[2]/div[2]/div[1]/a\").text\n",
        "    email = driver.find_element(By.XPATH, \"/html/body/div[1]/div/div/section[1]/div/div[2]/div[2]/div[1]/div[2]/a\").text\n",
        "    departamento_escola = driver.find_element(By.XPATH, \"/html/body/div[1]/div/div/section[1]/div/div[2]/div[2]/div[1]/div[3]/a\").text\n",
        "\n",
        "    driver.quit()\n",
        "    print(curso)\n",
        "    print(diretor)\n",
        "    print(email)\n",
        "    print(departamento_escola)\n",
        "\n",
        "    return diretor, email, departamento_escola\n",
        "\n",
        "# Read URLs from file and extract information\n",
        "with open('cursos_url.txt', 'r') as url_file, open('SAUNE_DirsCursos.csv', 'w') as output_file:\n",
        "    csv_writer = csv.writer(output_file)\n",
        "    csv_writer.writerow([\"Diretor(a) de curso\", \"email\", \"DepartamentoEscola\"])  # Write header\n",
        "\n",
        "    for url in url_file:\n",
        "        diretor, email, departamento_escola = extract_info(url.strip())\n",
        "        csv_writer.writerow([diretor, email, departamento_escola])"
      ],
      "metadata": {
        "id": "OectXZAsxWgM",
        "colab": {
          "base_uri": "https://localhost:8080/"
        },
        "outputId": "155d33a7-e898-4634-b6e3-fb5d0b935045"
      },
      "execution_count": null,
      "outputs": [
        {
          "output_type": "stream",
          "name": "stdout",
          "text": [
            "Licenciatura em Administração Pública\n",
            "Luís Miguel Simões Lucas Pires\n",
            "mlucaspires@ua.pt\n",
            "Departamento de Ciências Sociais, Políticas e do Território\n",
            "Licenciatura em Automação e Sistemas de Produção\n",
            "Paulo Agostinho Silva de Lima\n",
            "plima@ua.pt\n",
            "Escola Superior Aveiro Norte\n",
            "Licenciatura em Biologia\n",
            "Mário Guilherme Garcez Pacheco\n",
            "mpacheco@ua.pt\n",
            "Departamento de Biologia\n",
            "Licenciatura em Biologia e Geologia\n",
            "Salomé Fernandes Pinheiro de Almeida\n",
            "salmeida@ua.pt\n",
            "Departamento de Biologia\n",
            "Licenciatura em Bioquímica\n",
            "Manuel António Coimbra Rodrigues da Silva\n",
            "mac@ua.pt\n",
            "Departamento de Química\n",
            "Licenciatura em Biotecnologia\n",
            "Jorge Manuel Alexandre Saraiva\n",
            "jorgesaraiva@ua.pt\n",
            "Departamento de Biologia\n",
            "Licenciatura em Ciências Biomédicas\n",
            "Bruno Miguel Rodrigues das Neves\n",
            "bruno.neves@ua.pt\n",
            "Departamento de Ciências Médicas\n",
            "Licenciatura em Ciências do Mar\n",
            "Nuno Alexandre Firmino Vaz\n",
            "nuno.vaz@ua.pt\n",
            "Departamento de Ambiente e Ordenamento\n",
            "Licenciatura em Contabilidade\n",
            "Sandra Maria Geraldes Alves\n",
            "sandra.alves@ua.pt\n",
            "Instituto Superior de Contabilidade e Administração da Universidade de Aveiro\n",
            "Licenciatura em Contabilidade pós-laboral\n",
            "Sandra Maria Geraldes Alves\n",
            "sandra.alves@ua.pt\n",
            "Instituto Superior de Contabilidade e Administração da Universidade de Aveiro\n",
            "Licenciatura em Design\n",
            "Gonçalo João Ribeiro Gomes\n",
            "goncalo@ua.pt\n",
            "Departamento de Comunicação e Arte\n",
            "Licenciatura em Design de Produto e Tecnologia\n",
            "José Augusto Rodrigues de Sousa Coelho\n",
            "augustodesousacoelho@ua.pt\n",
            "Escola Superior Aveiro Norte\n",
            "Licenciatura em Economia\n",
            "Marta Alexandra da Costa Ferreira Dias\n",
            "mfdias@ua.pt\n",
            "Departamento de Economia, Gestão, Engenharia Industrial e Turismo\n",
            "Licenciatura em Educação Básica\n",
            "Maria Manuela Bento Gonçalves\n",
            "manuelag@ua.pt\n",
            "Departamento de Educação e Psicologia\n",
            "Licenciatura em Eletrónica e Mecânica Industrial\n",
            "Valter Filipe Miranda Castelão da Silva\n",
            "vfs@ua.pt\n",
            "Escola Superior de Tecnologia e Gestão de Águeda\n",
            "Licenciatura em Enfermagem\n",
            "Elsa Maria de Oliveira Pinheiro de Melo\n",
            "elsamelo@ua.pt\n",
            "Escola Superior de Saúde\n",
            "Licenciatura em Engenharia Aeroespacial\n",
            "Pedro Miguel da Silva Cabral\n",
            "pcabral@ua.pt\n",
            "Departamento de Eletrónica, Telecomunicações e Informática\n",
            "Licenciatura em Engenharia Biomédica\n",
            "Ana Luisa Monteiro da Silva\n",
            "analuisa.silva@ua.pt\n",
            "Departamento de Ciências Médicas\n",
            "Licenciatura em Engenharia Civil\n",
            "Miguel Nuno Lobato de Sousa Monteiro de Morais\n",
            "miguelmorais@ua.pt\n",
            "Departamento de Engenharia Civil\n",
            "Licenciatura em Engenharia Computacional\n",
            "Carlos Antonio Delgado Sousa Brites\n",
            "carlos.brites@ua.pt\n",
            "Departamento de Eletrónica, Telecomunicações e Informática\n",
            "Licenciatura em Engenharia de Automação Industrial\n",
            "Jorge Augusto Fernandes Ferreira\n",
            "jaff@ua.pt\n",
            "Departamento de Eletrónica, Telecomunicações e Informática\n",
            "Licenciatura em Engenharia de Computadores e Informática\n",
            "Joaquim João Estrela Ribeiro Silvestre Madeira\n",
            "jmadeira@ua.pt\n",
            "Departamento de Eletrónica, Telecomunicações e Informática\n",
            "Licenciatura em Engenharia de Materiais\n",
            "Augusto Luís Barros Lopes\n",
            "augusto@ua.pt\n",
            "Departamento de Engenharia de Materiais e Cerâmica\n",
            "Licenciatura em Engenharia do Ambiente\n",
            "Ana Paula Duarte Gomes\n",
            "pgomes@ua.pt\n",
            "Departamento de Ambiente e Ordenamento\n",
            "Licenciatura em Engenharia e Gestão Industrial\n",
            "Ana Raquel Reis Couto Xambre\n",
            "raquelx@ua.pt\n",
            "Departamento de Economia, Gestão, Engenharia Industrial e Turismo\n",
            "Licenciatura em Engenharia Eletrotécnica e de Computadores\n",
            "Paulo Miguel Nepomuceno Pereira Monteiro\n",
            "paulo.monteiro@ua.pt\n",
            "Departamento de Eletrónica, Telecomunicações e Informática\n",
            "Licenciatura em Engenharia Física\n",
            "Margarida Maria Resende Vieira Facão\n",
            "mfacao@ua.pt\n",
            "Departamento de Física\n"
          ]
        }
      ]
    },
    {
      "cell_type": "code",
      "source": [],
      "metadata": {
        "id": "3WH6pcyGS72a"
      },
      "execution_count": null,
      "outputs": []
    },
    {
      "cell_type": "code",
      "source": [],
      "metadata": {
        "id": "c0kIbjDZS7yt"
      },
      "execution_count": null,
      "outputs": []
    }
  ]
}