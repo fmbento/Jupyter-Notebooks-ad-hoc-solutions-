{
 "cells": [
  {
   "cell_type": "code",
   "execution_count": 3,
   "id": "1062f70d",
   "metadata": {},
   "outputs": [
    {
     "name": "stdout",
     "output_type": "stream",
     "text": [
      "mkdir: cannot create directory ‘./PDFs2RIA/RIA’: File exists\n",
      "\n",
      "--------- TUDO FEITO! -----------\n",
      "Ficheiro de saida: PDFs2RIA.zip\n"
     ]
    }
   ],
   "source": [
    "!pip install PyPDF2\n",
    "\n",
    "import os\n",
    "import shutil\n",
    "\n",
    "from PyPDF2 import PdfReader, PdfWriter\n",
    "\n",
    "def pagesLista(start, end):\n",
    "    id_arr = list(range(start, end))\n",
    "    return id_arr\n",
    "\n",
    "\n",
    "# folder path\n",
    "dir_path = r'./PDFs2RIA'\n",
    "!mkdir ./PDFs2RIA/RIA\n",
    "\n",
    "# list to store files\n",
    "res = []\n",
    "\n",
    "# Iterate directory\n",
    "for path in os.listdir(dir_path):\n",
    "    # check if current path is a file\n",
    "    if os.path.isfile(os.path.join(dir_path, path)):\n",
    "        res.append(path)\n",
    "\n",
    "# print(res)        \n",
    "        \n",
    "for pdf_file_path in res:\n",
    "    file_base_name = pdf_file_path.replace('.pdf', '').replace('-', '_')\n",
    "    pdf = PdfReader('./PDFs2RIA/' + pdf_file_path)\n",
    "    pageSplit = file_base_name.split(\"_\")\n",
    "    \n",
    "    pages = pagesLista(int(pageSplit[0])-1,int(pageSplit[len(pageSplit)-1]))\n",
    "    \n",
    "    pdfWriter = PdfWriter()\n",
    "    for page_num in pages:\n",
    "        pdfWriter.add_page(pdf.pages[page_num])\n",
    "\n",
    "    with open('./PDFs2RIA/RIA/{0}_ria.pdf'.format(file_base_name), 'wb') as f:\n",
    "        pdfWriter.write(f)\n",
    "        f.close()\n",
    "        \n",
    "shutil.make_archive('PDFs2RIA', 'zip', './PDFs2RIA/RIA', './')\n",
    "!rm -rf ./PDFs2RIA/\n",
    "print()\n",
    "print('--------- TUDO FEITO! -----------')\n",
    "print('Ficheiro de saida: PDFs2RIA.zip')"
   ]
  },
  {
   "cell_type": "code",
   "execution_count": null,
   "id": "90231d91",
   "metadata": {},
   "outputs": [],
   "source": []
  }
 ],
 "metadata": {
  "kernelspec": {
   "display_name": "Python 3 (ipykernel)",
   "language": "python",
   "name": "python3"
  },
  "language_info": {
   "codemirror_mode": {
    "name": "ipython",
    "version": 3
   },
   "file_extension": ".py",
   "mimetype": "text/x-python",
   "name": "python",
   "nbconvert_exporter": "python",
   "pygments_lexer": "ipython3",
   "version": "3.10.6"
  }
 },
 "nbformat": 4,
 "nbformat_minor": 5
}
