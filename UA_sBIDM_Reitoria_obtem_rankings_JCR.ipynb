{
  "cells": [
    {
      "cell_type": "markdown",
      "metadata": {
        "id": "view-in-github",
        "colab_type": "text"
      },
      "source": [
        "<a href=\"https://colab.research.google.com/github/fmbento/Jupyter-Notebooks_ad-hoc-solutions/blob/main/UA_sBIDM_Reitoria_obtem_rankings_JCR.ipynb\" target=\"_parent\"><img src=\"https://colab.research.google.com/assets/colab-badge.svg\" alt=\"Open In Colab\"/></a>"
      ]
    },
    {
      "cell_type": "code",
      "execution_count": null,
      "metadata": {
        "id": "hot6kKjv69V7"
      },
      "outputs": [],
      "source": [
        "# Executar apenas uma vez (na primeira vez, para instalar as bibliotecas necessárias)\n",
        "!pip install requests pandas openpyxl"
      ]
    },
    {
      "cell_type": "code",
      "execution_count": null,
      "metadata": {
        "id": "FAcYRuv069WA"
      },
      "outputs": [],
      "source": [
        "import requests\n",
        "import time\n",
        "import json\n",
        "import pandas as pd\n",
        "\n",
        "n_reg = 21763  # atualizar de acordo com o valor apresentado em https://jcr.clarivate.com/jcr/browse-journals\n",
        "\n",
        "x1pincsid = \"H4-*************\" # obter este valor do browser, depois de fazer login, ou quando na UA ou com VPN On\n",
        "\n",
        "url = \"https://jcr.clarivate.com/api/jcr3/bwjournal/v1/search-result\"\n",
        "headers = {\n",
        "    \"accept\": \"application/json, text/plain, */*\",\n",
        "    \"accept-language\": \"pt-PT,pt;q=0.9,en-GB;q=0.8,en;q=0.7,en-US;q=0.6,id;q=0.5\",\n",
        "    \"cache-control\": \"no-cache\",\n",
        "    \"content-type\": \"application/json\",\n",
        "    \"pragma\": \"no-cache\",\n",
        "    \"sec-ch-ua\": \"\\\"Google Chrome\\\";v=\\\"119\\\", \\\"Chromium\\\";v=\\\"119\\\", \\\"Not?A_Brand\\\";v=\\\"24\\\"\",\n",
        "    \"sec-ch-ua-mobile\": \"?0\",\n",
        "    \"sec-ch-ua-platform\": \"\\\"Windows\\\"\",\n",
        "    \"sec-fetch-dest\": \"empty\",\n",
        "    \"sec-fetch-mode\": \"cors\",\n",
        "    \"sec-fetch-site\": \"same-origin\",\n",
        "    \"x-1p-inc-sid\": x1pincsid\n",
        "}\n",
        "all_data = []\n",
        "\n",
        "for i in range(1, n_reg, 200):\n",
        "    data = \"{\\\"journalFilterParameters\\\":{\\\"query\\\":\\\"\\\",\\\"journals\\\":[],\\\"categories\\\":[],\\\"publishers\\\":[],\\\"countryRegions\\\":[],\\\"citationIndexes\\\":[\\\"SCIE\\\",\\\"SSCI\\\",\\\"AHCI\\\",\\\"ESCI\\\"],\\\"jcrYear\\\":2022,\\\"categorySchema\\\":\\\"WOS\\\",\\\"openAccess\\\":\\\"N\\\",\\\"jifQuartiles\\\":[],\\\"jifRanges\\\":[],\\\"jifPercentileRanges\\\":[],\\\"jciRanges\\\":[],\\\"oaRanges\\\":[],\\\"issnJ20s\\\":[]},\\\"retrievalParameters\\\":{\\\"start\\\":\" + str(i) + \",\\\"count\\\":200,\\\"sortBy\\\":\\\"totalCites\\\",\\\"sortOrder\\\":\\\"DESC\\\"}}\"\n",
        "    response = requests.post(url, headers=headers, data=data)\n",
        "    all_data.append(response.json())\n",
        "    time.sleep(5)\n",
        "\n",
        "# with open('output.json', 'w') as f:\n",
        "#    json.dump(all_data, f)\n",
        "\n",
        "# Flatten the JSON responses into a single list of records\n",
        "flattened_data = [item for sublist in all_data for item in sublist['data']]\n",
        "\n",
        "# Convert the flattened data to a DataFrame\n",
        "df = pd.json_normalize(flattened_data)\n",
        "\n",
        "# Write the DataFrame to an Excel file\n",
        "df.to_excel('JCR_Lista_Rankings_Revistas.xlsx')"
      ]
    }
  ],
  "metadata": {
    "kernelspec": {
      "display_name": "Python 3",
      "language": "python",
      "name": "python3"
    },
    "language_info": {
      "codemirror_mode": {
        "name": "ipython",
        "version": 3
      },
      "file_extension": ".py",
      "mimetype": "text/x-python",
      "name": "python",
      "nbconvert_exporter": "python",
      "pygments_lexer": "ipython3",
      "version": "3.11.6"
    },
    "colab": {
      "provenance": [],
      "include_colab_link": true
    }
  },
  "nbformat": 4,
  "nbformat_minor": 0
}